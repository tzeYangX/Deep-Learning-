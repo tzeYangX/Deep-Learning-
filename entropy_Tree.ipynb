{
 "cells": [
  {
   "cell_type": "code",
   "execution_count": 211,
   "metadata": {},
   "outputs": [
    {
     "data": {
      "text/html": [
       "<div>\n",
       "<style scoped>\n",
       "    .dataframe tbody tr th:only-of-type {\n",
       "        vertical-align: middle;\n",
       "    }\n",
       "\n",
       "    .dataframe tbody tr th {\n",
       "        vertical-align: top;\n",
       "    }\n",
       "\n",
       "    .dataframe thead th {\n",
       "        text-align: right;\n",
       "    }\n",
       "</style>\n",
       "<table border=\"1\" class=\"dataframe\">\n",
       "  <thead>\n",
       "    <tr style=\"text-align: right;\">\n",
       "      <th></th>\n",
       "      <th>status</th>\n",
       "      <th>marriage</th>\n",
       "      <th>Status</th>\n",
       "      <th>hasChild</th>\n",
       "      <th>hasAppointment</th>\n",
       "      <th>weather</th>\n",
       "    </tr>\n",
       "  </thead>\n",
       "  <tbody>\n",
       "    <tr>\n",
       "      <th>0</th>\n",
       "      <td>0</td>\n",
       "      <td>1</td>\n",
       "      <td>0</td>\n",
       "      <td>0</td>\n",
       "      <td>0</td>\n",
       "      <td>0</td>\n",
       "    </tr>\n",
       "    <tr>\n",
       "      <th>1</th>\n",
       "      <td>1</td>\n",
       "      <td>1</td>\n",
       "      <td>0</td>\n",
       "      <td>0</td>\n",
       "      <td>0</td>\n",
       "      <td>0</td>\n",
       "    </tr>\n",
       "    <tr>\n",
       "      <th>2</th>\n",
       "      <td>2</td>\n",
       "      <td>1</td>\n",
       "      <td>1</td>\n",
       "      <td>1</td>\n",
       "      <td>1</td>\n",
       "      <td>0</td>\n",
       "    </tr>\n",
       "    <tr>\n",
       "      <th>3</th>\n",
       "      <td>3</td>\n",
       "      <td>1</td>\n",
       "      <td>1</td>\n",
       "      <td>1</td>\n",
       "      <td>0</td>\n",
       "      <td>0</td>\n",
       "    </tr>\n",
       "    <tr>\n",
       "      <th>4</th>\n",
       "      <td>4</td>\n",
       "      <td>1</td>\n",
       "      <td>1</td>\n",
       "      <td>1</td>\n",
       "      <td>1</td>\n",
       "      <td>1</td>\n",
       "    </tr>\n",
       "    <tr>\n",
       "      <th>5</th>\n",
       "      <td>5</td>\n",
       "      <td>1</td>\n",
       "      <td>1</td>\n",
       "      <td>1</td>\n",
       "      <td>0</td>\n",
       "      <td>0</td>\n",
       "    </tr>\n",
       "    <tr>\n",
       "      <th>6</th>\n",
       "      <td>6</td>\n",
       "      <td>1</td>\n",
       "      <td>0</td>\n",
       "      <td>0</td>\n",
       "      <td>0</td>\n",
       "      <td>0</td>\n",
       "    </tr>\n",
       "    <tr>\n",
       "      <th>7</th>\n",
       "      <td>7</td>\n",
       "      <td>1</td>\n",
       "      <td>1</td>\n",
       "      <td>1</td>\n",
       "      <td>0</td>\n",
       "      <td>0</td>\n",
       "    </tr>\n",
       "    <tr>\n",
       "      <th>8</th>\n",
       "      <td>8</td>\n",
       "      <td>0</td>\n",
       "      <td>0</td>\n",
       "      <td>0</td>\n",
       "      <td>1</td>\n",
       "      <td>1</td>\n",
       "    </tr>\n",
       "    <tr>\n",
       "      <th>9</th>\n",
       "      <td>9</td>\n",
       "      <td>0</td>\n",
       "      <td>1</td>\n",
       "      <td>1</td>\n",
       "      <td>0</td>\n",
       "      <td>0</td>\n",
       "    </tr>\n",
       "  </tbody>\n",
       "</table>\n",
       "</div>"
      ],
      "text/plain": [
       "   status  marriage  Status  hasChild  hasAppointment  weather\n",
       "0       0         1       0         0               0        0\n",
       "1       1         1       0         0               0        0\n",
       "2       2         1       1         1               1        0\n",
       "3       3         1       1         1               0        0\n",
       "4       4         1       1         1               1        1\n",
       "5       5         1       1         1               0        0\n",
       "6       6         1       0         0               0        0\n",
       "7       7         1       1         1               0        0\n",
       "8       8         0       0         0               1        1\n",
       "9       9         0       1         1               0        0"
      ]
     },
     "execution_count": 211,
     "metadata": {},
     "output_type": "execute_result"
    }
   ],
   "source": [
    "import numpy as np\n",
    "import pandas as pd\n",
    "\n",
    "# 读取数据\n",
    "data = pd.read_csv('weekend.csv')\n",
    "data"
   ]
  },
  {
   "cell_type": "code",
   "execution_count": 212,
   "metadata": {},
   "outputs": [],
   "source": [
    "## 自定义计算entropy的函数\n",
    "def cal_entropy(data, feature_name):\n",
    "    '''\n",
    "    data : 数据集变量，DataFrame类型\n",
    "    featue_name : 目标特征名称\n",
    "    '''\n",
    "    ## 声明数据集的熵\n",
    "    entropy = 0\n",
    "    ## 获取data的样本数num\n",
    "    num = data.shape[0]\n",
    "    \n",
    "    ## 使用value_counts()函数获取目标特征`feature_name`取值的频数统计信息freq_stats\n",
    "    freq_stats = data[feature_name].value_counts()\n",
    "    ## 遍历目标特征的取值频数\n",
    "    for index in range(len(freq_stats)):\n",
    "        ## 获取具体的取值频数freq\n",
    "        freq = freq_stats[index]\n",
    "        ## 通过频数计算频率prob \n",
    "        prob = freq / float(num)\n",
    "        ## 计算某个取值的entropy，\n",
    "        entropy = entropy + (-prob*np.log2(prob))\n",
    "    ## 返回结果\n",
    "    return round(entropy, 3)\n",
    "\n"
   ]
  },
  {
   "cell_type": "code",
   "execution_count": 213,
   "metadata": {},
   "outputs": [
    {
     "data": {
      "text/plain": [
       "0.971"
      ]
     },
     "execution_count": 213,
     "metadata": {},
     "output_type": "execute_result"
    }
   ],
   "source": [
    "data_entropy = cal_entropy(data, 'Status')\n",
    "data_entropy "
   ]
  },
  {
   "cell_type": "code",
   "execution_count": 214,
   "metadata": {},
   "outputs": [
    {
     "data": {
      "text/plain": [
       "1    6\n",
       "0    4\n",
       "Name: Status, dtype: int64"
      ]
     },
     "execution_count": 214,
     "metadata": {},
     "output_type": "execute_result"
    }
   ],
   "source": [
    "feature_name='Status'\n",
    "freq_stats = data[feature_name].value_counts()\n",
    "freq_stats"
   ]
  },
  {
   "cell_type": "code",
   "execution_count": 215,
   "metadata": {},
   "outputs": [
    {
     "data": {
      "text/plain": [
       "0.971"
      ]
     },
     "execution_count": 215,
     "metadata": {},
     "output_type": "execute_result"
    }
   ],
   "source": [
    "entropy = 0\n",
    "num = data.shape[0]\n",
    "\n",
    "for index in range(len(freq_stats)):\n",
    "    freq = freq_stats[index]\n",
    "    prob = freq / float(num)\n",
    "    entropy = entropy + (-prob*np.log2(prob))\n",
    "    \n",
    "round(entropy, 3)"
   ]
  },
  {
   "cell_type": "code",
   "execution_count": 216,
   "metadata": {},
   "outputs": [
    {
     "data": {
      "text/plain": [
       "['marriage', 'Status', 'hasChild', 'hasAppointment', 'weather']"
      ]
     },
     "execution_count": 216,
     "metadata": {},
     "output_type": "execute_result"
    }
   ],
   "source": [
    "infogain_list = []\n",
    "entropy_list = []\n",
    "nums,dims=data.shape\n",
    "feature_list = list(data.columns.values)\n",
    "feature_list.remove('status')\n",
    "feature_list"
   ]
  },
  {
   "cell_type": "code",
   "execution_count": 217,
   "metadata": {},
   "outputs": [
    {
     "name": "stdout",
     "output_type": "stream",
     "text": [
      "第 1 个特征处理\n",
      "第 1 个特征出现次数：\n",
      "1    8\n",
      "0    2\n",
      "Name: marriage, dtype: int64\n",
      "第 1 个特征分别出现频率：\n",
      "[0.8, 0.2]\n",
      "当前特征下第1个类别切片数据：\n",
      "   status  marriage  Status  hasChild  hasAppointment  weather\n",
      "0       0         1       0         0               0        0\n",
      "1       1         1       0         0               0        0\n",
      "2       2         1       1         1               1        0\n",
      "3       3         1       1         1               0        0\n",
      "4       4         1       1         1               1        1\n",
      "5       5         1       1         1               0        0\n",
      "6       6         1       0         0               0        0\n",
      "7       7         1       1         1               0        0\n",
      "当前熵值为1.176760\n",
      "当前特征下第2个类别切片数据：\n",
      "   status  marriage  Status  hasChild  hasAppointment  weather\n",
      "8       8         0       0         0               1        1\n",
      "9       9         0       1         1               0        0\n",
      "当前熵值为-0.129049\n",
      "\t\n",
      "第 2 个特征处理\n",
      "第 2 个特征出现次数：\n",
      "1    6\n",
      "0    4\n",
      "Name: Status, dtype: int64\n",
      "第 2 个特征分别出现频率：\n",
      "[0.6, 0.4]\n",
      "当前特征下第1个类别切片数据：\n",
      "   status  marriage  Status  hasChild  hasAppointment  weather\n",
      "2       2         1       1         1               1        0\n",
      "3       3         1       1         1               0        0\n",
      "4       4         1       1         1               1        1\n",
      "5       5         1       1         1               0        0\n",
      "7       7         1       1         1               0        0\n",
      "9       9         0       1         1               0        0\n",
      "当前熵值为-3.683445\n",
      "当前特征下第2个类别切片数据：\n",
      "   status  marriage  Status  hasChild  hasAppointment  weather\n",
      "0       0         1       0         0               0        0\n",
      "1       1         1       0         0               0        0\n",
      "6       6         1       0         0               0        0\n",
      "8       8         0       0         0               1        1\n",
      "当前熵值为-6.490052\n",
      "\t\n",
      "第 3 个特征处理\n",
      "第 3 个特征出现次数：\n",
      "1    6\n",
      "0    4\n",
      "Name: hasChild, dtype: int64\n",
      "第 3 个特征分别出现频率：\n",
      "[0.6, 0.4]\n",
      "当前特征下第1个类别切片数据：\n",
      "   status  marriage  Status  hasChild  hasAppointment  weather\n",
      "2       2         1       1         1               1        0\n",
      "3       3         1       1         1               0        0\n",
      "4       4         1       1         1               1        1\n",
      "5       5         1       1         1               0        0\n",
      "7       7         1       1         1               0        0\n",
      "9       9         0       1         1               0        0\n",
      "当前熵值为-3.975926\n",
      "当前特征下第2个类别切片数据：\n",
      "   status  marriage  Status  hasChild  hasAppointment  weather\n",
      "0       0         1       0         0               0        0\n",
      "1       1         1       0         0               0        0\n",
      "6       6         1       0         0               0        0\n",
      "8       8         0       0         0               1        1\n",
      "当前熵值为-6.977521\n",
      "\t\n",
      "第 4 个特征处理\n",
      "第 4 个特征出现次数：\n",
      "0    7\n",
      "1    3\n",
      "Name: hasAppointment, dtype: int64\n",
      "第 4 个特征分别出现频率：\n",
      "[0.7, 0.3]\n",
      "当前特征下第1个类别切片数据：\n",
      "   status  marriage  Status  hasChild  hasAppointment  weather\n",
      "0       0         1       0         0               0        0\n",
      "1       1         1       0         0               0        0\n",
      "3       3         1       1         1               0        0\n",
      "5       5         1       1         1               0        0\n",
      "6       6         1       0         0               0        0\n",
      "7       7         1       1         1               0        0\n",
      "9       9         0       1         1               0        0\n",
      "当前熵值为-4.886073\n",
      "当前特征下第2个类别切片数据：\n",
      "   status  marriage  Status  hasChild  hasAppointment  weather\n",
      "2       2         1       1         1               1        0\n",
      "4       4         1       1         1               1        1\n",
      "8       8         0       0         0               1        1\n",
      "当前熵值为-7.835779\n",
      "\t\n",
      "第 5 个特征处理\n",
      "第 5 个特征出现次数：\n",
      "0    8\n",
      "1    2\n",
      "Name: weather, dtype: int64\n",
      "第 5 个特征分别出现频率：\n",
      "[0.8, 0.2]\n",
      "当前特征下第1个类别切片数据：\n",
      "   status  marriage  Status  hasChild  hasAppointment  weather\n",
      "0       0         1       0         0               0        0\n",
      "1       1         1       0         0               0        0\n",
      "2       2         1       1         1               1        0\n",
      "3       3         1       1         1               0        0\n",
      "5       5         1       1         1               0        0\n",
      "6       6         1       0         0               0        0\n",
      "7       7         1       1         1               0        0\n",
      "9       9         0       1         1               0        0\n",
      "当前熵值为-7.465883\n",
      "当前特征下第2个类别切片数据：\n",
      "   status  marriage  Status  hasChild  hasAppointment  weather\n",
      "4       4         1       1         1               1        1\n",
      "8       8         0       0         0               1        1\n",
      "当前熵值为-10.932353\n",
      "\t\n"
     ]
    },
    {
     "data": {
      "text/plain": [
       "[-0.1290494055453315,\n",
       " -6.490051905497254,\n",
       " -6.977520656098218,\n",
       " -7.835779135395722,\n",
       " -10.93235342357859]"
      ]
     },
     "execution_count": 217,
     "metadata": {},
     "output_type": "execute_result"
    }
   ],
   "source": [
    "n=0\n",
    "for feature in feature_list:  \n",
    "    n=n+1\n",
    "    print('第 %d 个特征处理'%n)\n",
    "    sub_entropy = 0\n",
    "    feature_data = data[feature]\n",
    "    freq_stats=feature_data.value_counts()\n",
    "    value_stats=freq_stats.index.values\n",
    "    feature_prob=[i/float(nums) for i in freq_stats]\n",
    "    print('第 %d 个特征出现次数：'%n)\n",
    "    print(freq_stats)\n",
    "    print('第 %d 个特征分别出现频率：'%n)\n",
    "    print(feature_prob)\n",
    "    zip1=zip(value_stats,feature_prob)\n",
    "    i=0\n",
    "    for pair_value in zip(value_stats, feature_prob):\n",
    "        i+=1\n",
    "        feature_value = pair_value[0]\n",
    "        feature_prob = pair_value[1]\n",
    "        print('当前特征下第%d个类别切片数据：'%i)\n",
    "        sliced_data=data[feature_data==feature_value]\n",
    "        print(sliced_data)\n",
    "        num1 = sliced_data.shape[0]\n",
    "        for indexs in range(len(freq_stats)):\n",
    "            freqs = freq_stats[indexs]\n",
    "            prob = freqs / float(num1)\n",
    "            entropy = entropy + (-prob*np.log2(prob))\n",
    "        \n",
    "        sub_entropy = sub_entropy + feature_prob*entropy\n",
    "        print('当前熵值为%f'%sub_entropy)\n",
    "    \n",
    "    print('\\t')\n",
    "    entropy_list.append(sub_entropy)  \n",
    "    \n",
    "entropy_list\n"
   ]
  },
  {
   "cell_type": "code",
   "execution_count": 218,
   "metadata": {},
   "outputs": [],
   "source": [
    "for value in entropy_list:\n",
    "    infogain=data_entropy -value\n",
    "    infogain_list.append(round(infogain, 4))\n",
    "\n",
    "max_infogain = max(infogain_list)\n",
    "max_index = infogain_list.index(max_infogain)\n",
    "best_feature = feature_list[max_index]"
   ]
  },
  {
   "cell_type": "code",
   "execution_count": 219,
   "metadata": {},
   "outputs": [
    {
     "name": "stdout",
     "output_type": "stream",
     "text": [
      "信息增益列表： [1.1, 7.4611, 7.9485, 8.8068, 11.9034]\n",
      "最优的分支节点名称： weather\n"
     ]
    }
   ],
   "source": [
    "print ('信息增益列表：',infogain_list)\n",
    "\n",
    "print ('最优的分支节点名称：', best_feature)"
   ]
  },
  {
   "cell_type": "code",
   "execution_count": null,
   "metadata": {},
   "outputs": [],
   "source": []
  },
  {
   "cell_type": "code",
   "execution_count": null,
   "metadata": {},
   "outputs": [],
   "source": []
  }
 ],
 "metadata": {
  "kernelspec": {
   "display_name": "Python 3",
   "language": "python",
   "name": "python3"
  },
  "language_info": {
   "codemirror_mode": {
    "name": "ipython",
    "version": 3
   },
   "file_extension": ".py",
   "mimetype": "text/x-python",
   "name": "python",
   "nbconvert_exporter": "python",
   "pygments_lexer": "ipython3",
   "version": "3.6.4"
  }
 },
 "nbformat": 4,
 "nbformat_minor": 2
}
