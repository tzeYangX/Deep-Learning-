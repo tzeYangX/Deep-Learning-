{
 "cells": [
  {
   "cell_type": "code",
   "execution_count": 1,
   "metadata": {
    "id": "D37D34DE70FF4A4B8CA197454D3C506B",
    "scrolled": false
   },
   "outputs": [],
   "source": [
    "import numpy as np\n",
    "import matplotlib.pyplot as plt\n",
    "import scipy.optimize as pyopt"
   ]
  },
  {
   "cell_type": "code",
   "execution_count": 2,
   "metadata": {
    "id": "6589036B67CA4F6480E71A431223BDF2",
    "scrolled": false
   },
   "outputs": [],
   "source": [
    "# load the curve-fit data (.npy) from the disk\n",
    "def load_curve_data(in_path):\n",
    "    x = np.load(in_path + '/x.npy')\n",
    "    y = np.load(in_path + '/y.npy')\n",
    "    x_ref = np.load(in_path + '/x_ref.npy')\n",
    "    y_ref = np.load(in_path + '/y_ref.npy')\n",
    "    return x, y, x_ref, y_ref\n",
    "\n",
    "\n",
    "# visualize the curve-fit data\n",
    "def show_curve_data(x, y, x_ref, y_ref):\n",
    "    plt.plot(x_ref, y_ref, color = 'r')\n",
    "    plt.scatter(x, y)\n",
    "    plt.legend(['refr_curve', 'data_with_noise'])\n",
    "    plt.show()\n"
   ]
  },
  {
   "cell_type": "code",
   "execution_count": 30,
   "metadata": {
    "id": "5FC87BF642114C649B58F9EC3B2698C1",
    "scrolled": false
   },
   "outputs": [],
   "source": [
    "# fit the data by polynomial model with L1_reg loss\n",
    "def my_robust_fit(x, y, x_ref, y_ref, poly_order, reglr_beta):\n",
    "    # solve: min 1/N*|w^T*X-y|_1 + reglr_beta*|w|_1^1\n",
    "    # initialize params\n",
    "    w = np.zeros((poly_order + 1, 1))  # model\n",
    "\n",
    "    X = np.ones(len(y))\n",
    "    X_ref = np.ones(len(y_ref))\n",
    "    #print(X)\n",
    "    for i in range(1, poly_order+1):\n",
    "        X = np.vstack((X, x**i))\n",
    "        X_ref = np.vstack((X_ref, x_ref**i))\n",
    "        #print(X_ref)\n",
    "\n",
    "    def robust_loss(w):\n",
    "        return np.linalg.norm(y-X.T.dot(w), 1)+reglr_beta*np.linalg.norm(w)\n",
    "\n",
    "    res = pyopt.minimize(robust_loss, w)\n",
    "    w = res.x\n",
    "\n",
    "    plt.plot(x_ref, y_ref, color='r')\n",
    "    plt.scatter(x, y)\n",
    "    y_pred = X_ref.T.dot(w)\n",
    "    plt.plot(x_ref, y_pred, color='g')\n",
    "    plt.legend(['refr_curve', 'pred_curve', 'data_with_noise'])\n",
    "    plt.title('L1 rubost fit: poly_order = %i, beta = %f' % (poly_order, reglr_beta))\n",
    "    plt.show()\n",
    "    "
   ]
  },
  {
   "cell_type": "markdown",
   "metadata": {
    "id": "8A4258949E444D16995A2B46A162CBA6",
    "mdEditEnable": false
   },
   "source": [
    "#### Load the curve-fit data (.npy) from the disk."
   ]
  },
  {
   "cell_type": "code",
   "execution_count": 5,
   "metadata": {
    "id": "33C8127CE452451D806C16095231452F",
    "scrolled": false
   },
   "outputs": [],
   "source": [
    "x, y, x_ref, y_ref = load_curve_data('/home/kesci/input/curve_fit9089/')"
   ]
  },
  {
   "cell_type": "markdown",
   "metadata": {
    "id": "A47A982FF7BD4E2C81BC77B60C825644",
    "mdEditEnable": false
   },
   "source": [
    "#### Set an outlier."
   ]
  },
  {
   "cell_type": "code",
   "execution_count": 6,
   "metadata": {
    "id": "F8BB12A67905494B80F26572A0B62A40",
    "scrolled": false
   },
   "outputs": [],
   "source": [
    "y[2] = 5."
   ]
  },
  {
   "cell_type": "markdown",
   "metadata": {
    "id": "6C600F7FDCD046258A00F6DDA9813F90",
    "mdEditEnable": false
   },
   "source": [
    "#### Visualize the curve-fit data."
   ]
  },
  {
   "cell_type": "code",
   "execution_count": 7,
   "metadata": {
    "id": "0FF83F466F6440FD926F170DD744CC96",
    "scrolled": false
   },
   "outputs": [
    {
     "data": {
      "text/html": [
       "<img src=\"https://cdn.kesci.com/rt_upload/0FF83F466F6440FD926F170DD744CC96/p9y2bfojor.png\">"
      ],
      "text/plain": [
       "<Figure size 432x288 with 1 Axes>"
      ]
     },
     "metadata": {},
     "output_type": "display_data"
    }
   ],
   "source": [
    "show_curve_data(x, y, x_ref, y_ref)"
   ]
  },
  {
   "cell_type": "markdown",
   "metadata": {
    "id": "2F1E97962D4F47D89A766C39486CA5D9",
    "mdEditEnable": false
   },
   "source": [
    "#### Fit the data by polynomial model with L1_reg loss + L1 regularization."
   ]
  },
  {
   "cell_type": "code",
   "execution_count": 21,
   "metadata": {
    "id": "FD4A34A9A6FA4CDF95C01F3B982CCC14",
    "scrolled": false
   },
   "outputs": [
    {
     "data": {
      "text/html": [
       "<img src=\"https://cdn.kesci.com/rt_upload/FD4A34A9A6FA4CDF95C01F3B982CCC14/p9y2fc7mau.png\">"
      ],
      "text/plain": [
       "<Figure size 432x288 with 1 Axes>"
      ]
     },
     "metadata": {},
     "output_type": "display_data"
    }
   ],
   "source": [
    "my_robust_fit(x, y, x_ref, y_ref, poly_order=3, reglr_beta=0.)"
   ]
  },
  {
   "cell_type": "code",
   "execution_count": 23,
   "metadata": {
    "id": "877E03E5F9C6410AAFD7A630720EC4A3",
    "scrolled": false
   },
   "outputs": [
    {
     "data": {
      "text/html": [
       "<img src=\"https://cdn.kesci.com/rt_upload/877E03E5F9C6410AAFD7A630720EC4A3/p9y2fszo07.png\">"
      ],
      "text/plain": [
       "<Figure size 432x288 with 1 Axes>"
      ]
     },
     "metadata": {},
     "output_type": "display_data"
    }
   ],
   "source": [
    "my_robust_fit(x, y, x_ref, y_ref, poly_order=5, reglr_beta=0.)"
   ]
  },
  {
   "cell_type": "code",
   "execution_count": 11,
   "metadata": {
    "id": "521D90590F3148D4A5028BEE9D0CB6E4",
    "scrolled": false
   },
   "outputs": [
    {
     "data": {
      "text/html": [
       "<img src=\"https://cdn.kesci.com/rt_upload/521D90590F3148D4A5028BEE9D0CB6E4/p9y2camw0n.png\">"
      ],
      "text/plain": [
       "<Figure size 432x288 with 1 Axes>"
      ]
     },
     "metadata": {},
     "output_type": "display_data"
    }
   ],
   "source": [
    "my_robust_fit(x, y, x_ref, y_ref, poly_order=55, reglr_beta=0.)"
   ]
  },
  {
   "cell_type": "code",
   "execution_count": 12,
   "metadata": {
    "id": "9695F157AEB3451C999660D921B19A5E",
    "scrolled": false
   },
   "outputs": [
    {
     "data": {
      "text/html": [
       "<img src=\"https://cdn.kesci.com/rt_upload/9695F157AEB3451C999660D921B19A5E/p9y2cfj1bg.png\">"
      ],
      "text/plain": [
       "<Figure size 432x288 with 1 Axes>"
      ]
     },
     "metadata": {},
     "output_type": "display_data"
    }
   ],
   "source": [
    "my_robust_fit(x, y, x_ref, y_ref, poly_order=99, reglr_beta=0.)"
   ]
  },
  {
   "cell_type": "code",
   "execution_count": 17,
   "metadata": {
    "id": "1D29DB821B25437C8B502E6D60ECB528",
    "scrolled": false
   },
   "outputs": [
    {
     "data": {
      "text/html": [
       "<img src=\"https://cdn.kesci.com/rt_upload/1D29DB821B25437C8B502E6D60ECB528/p9y2e2ii0k.png\">"
      ],
      "text/plain": [
       "<Figure size 432x288 with 1 Axes>"
      ]
     },
     "metadata": {},
     "output_type": "display_data"
    }
   ],
   "source": [
    "my_robust_fit(x, y, x_ref, y_ref, poly_order=9, reglr_beta=0)"
   ]
  },
  {
   "cell_type": "code",
   "execution_count": 31,
   "metadata": {
    "id": "BE6F37AC6E0E44E283AF5FBB3D57B5A8",
    "scrolled": false
   },
   "outputs": [
    {
     "data": {
      "text/html": [
       "<img src=\"https://cdn.kesci.com/rt_upload/BE6F37AC6E0E44E283AF5FBB3D57B5A8/p9y3xa5xxo.png\">"
      ],
      "text/plain": [
       "<Figure size 432x288 with 1 Axes>"
      ]
     },
     "metadata": {},
     "output_type": "display_data"
    }
   ],
   "source": [
    "my_robust_fit(x, y, x_ref, y_ref, poly_order=9, reglr_beta=0.01)"
   ]
  },
  {
   "cell_type": "code",
   "execution_count": 19,
   "metadata": {
    "id": "C5EEE5B300A046DB8722CD723094738B",
    "scrolled": false
   },
   "outputs": [
    {
     "data": {
      "text/html": [
       "<img src=\"https://cdn.kesci.com/rt_upload/C5EEE5B300A046DB8722CD723094738B/p9y2eibpjm.png\">"
      ],
      "text/plain": [
       "<Figure size 432x288 with 1 Axes>"
      ]
     },
     "metadata": {},
     "output_type": "display_data"
    }
   ],
   "source": [
    "my_robust_fit(x, y, x_ref, y_ref, poly_order=9, reglr_beta=0.1)"
   ]
  },
  {
   "cell_type": "code",
   "execution_count": 20,
   "metadata": {
    "id": "62E7EF22BE7C4E93817492586D79A23B",
    "scrolled": false
   },
   "outputs": [
    {
     "data": {
      "text/html": [
       "<img src=\"https://cdn.kesci.com/rt_upload/62E7EF22BE7C4E93817492586D79A23B/p9y2ex3nqi.png\">"
      ],
      "text/plain": [
       "<Figure size 432x288 with 1 Axes>"
      ]
     },
     "metadata": {},
     "output_type": "display_data"
    }
   ],
   "source": [
    "my_robust_fit(x, y, x_ref, y_ref, poly_order=9, reglr_beta=0.5)"
   ]
  }
 ],
 "metadata": {
  "kernelspec": {
   "display_name": "Python 3",
   "language": "python",
   "name": "python3"
  },
  "language_info": {
   "codemirror_mode": {
    "name": "ipython",
    "version": 3
   },
   "file_extension": ".py",
   "mimetype": "text/x-python",
   "name": "python",
   "nbconvert_exporter": "python",
   "pygments_lexer": "ipython3",
   "version": "3.6.4"
  }
 },
 "nbformat": 4,
 "nbformat_minor": 1
}
